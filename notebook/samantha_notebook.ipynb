{
  "nbformat": 4,
  "nbformat_minor": 0,
  "metadata": {
    "colab": {
      "name": "Final Project - Data 144",
      "provenance": [],
      "collapsed_sections": []
    },
    "kernelspec": {
      "display_name": "Python 3",
      "name": "python3"
    }
  },
  "cells": [
    {
      "cell_type": "code",
      "metadata": {
        "id": "Lj4HTb4HOeZn"
      },
      "source": [
        "import pandas as pd\n",
        "import numpy as np\n",
        "import matplotlib.pyplot as plt\n",
        "import re\n",
        "import seaborn as sns\n",
        "\n",
        "#for model creation\n",
        "from keras.preprocessing.text import Tokenizer\n",
        "from keras.preprocessing.sequence import pad_sequences\n",
        "from keras.layers import Dense, Input, LSTM, Embedding, Dropout, Activation, GRU, SpatialDropout1D\n",
        "from keras.layers import Bidirectional, GlobalMaxPool1D\n",
        "from keras.models import Model\n",
        "from keras.models import Sequential\n",
        "from keras import initializers, regularizers, constraints, optimizers, layers\n",
        "from keras.optimizers import SGD\n",
        "\n",
        "#for saving/importing models\n",
        "from keras.models import load_model\n",
        "from pickle import dump, load\n",
        "\n",
        "#for NLP preprocessing\n",
        "from nltk.corpus import stopwords\n",
        "import nltk"
      ],
      "execution_count": null,
      "outputs": []
    },
    {
      "cell_type": "markdown",
      "metadata": {
        "id": "OqJwAqndzb6c"
      },
      "source": [
        "#Preprocessing and Data Exploration"
      ]
    },
    {
      "cell_type": "code",
      "metadata": {
        "colab": {
          "base_uri": "https://localhost:8080/",
          "height": 204
        },
        "id": "hUdHTbYeOsA6",
        "outputId": "80ae458d-e41f-4cdb-d090-d11b8f9085ed"
      },
      "source": [
        "df = pd.read_csv('train_original_new_column.csv')\n",
        "df.head()"
      ],
      "execution_count": null,
      "outputs": [
        {
          "output_type": "execute_result",
          "data": {
            "text/html": [
              "<div>\n",
              "<style scoped>\n",
              "    .dataframe tbody tr th:only-of-type {\n",
              "        vertical-align: middle;\n",
              "    }\n",
              "\n",
              "    .dataframe tbody tr th {\n",
              "        vertical-align: top;\n",
              "    }\n",
              "\n",
              "    .dataframe thead th {\n",
              "        text-align: right;\n",
              "    }\n",
              "</style>\n",
              "<table border=\"1\" class=\"dataframe\">\n",
              "  <thead>\n",
              "    <tr style=\"text-align: right;\">\n",
              "      <th></th>\n",
              "      <th>id</th>\n",
              "      <th>comment_text</th>\n",
              "      <th>toxic</th>\n",
              "      <th>severe_toxic</th>\n",
              "      <th>obscene</th>\n",
              "      <th>threat</th>\n",
              "      <th>insult</th>\n",
              "      <th>identity_hate</th>\n",
              "      <th>final_toxicity</th>\n",
              "    </tr>\n",
              "  </thead>\n",
              "  <tbody>\n",
              "    <tr>\n",
              "      <th>0</th>\n",
              "      <td>0000997932d777bf</td>\n",
              "      <td>Explanation\\nWhy the edits made under my usern...</td>\n",
              "      <td>0</td>\n",
              "      <td>0</td>\n",
              "      <td>0</td>\n",
              "      <td>0</td>\n",
              "      <td>0</td>\n",
              "      <td>0</td>\n",
              "      <td>0</td>\n",
              "    </tr>\n",
              "    <tr>\n",
              "      <th>1</th>\n",
              "      <td>000103f0d9cfb60f</td>\n",
              "      <td>D'aww! He matches this background colour I'm s...</td>\n",
              "      <td>0</td>\n",
              "      <td>0</td>\n",
              "      <td>0</td>\n",
              "      <td>0</td>\n",
              "      <td>0</td>\n",
              "      <td>0</td>\n",
              "      <td>0</td>\n",
              "    </tr>\n",
              "    <tr>\n",
              "      <th>2</th>\n",
              "      <td>000113f07ec002fd</td>\n",
              "      <td>Hey man, I'm really not trying to edit war. It...</td>\n",
              "      <td>0</td>\n",
              "      <td>0</td>\n",
              "      <td>0</td>\n",
              "      <td>0</td>\n",
              "      <td>0</td>\n",
              "      <td>0</td>\n",
              "      <td>0</td>\n",
              "    </tr>\n",
              "    <tr>\n",
              "      <th>3</th>\n",
              "      <td>0001b41b1c6bb37e</td>\n",
              "      <td>\"\\nMore\\nI can't make any real suggestions on ...</td>\n",
              "      <td>0</td>\n",
              "      <td>0</td>\n",
              "      <td>0</td>\n",
              "      <td>0</td>\n",
              "      <td>0</td>\n",
              "      <td>0</td>\n",
              "      <td>0</td>\n",
              "    </tr>\n",
              "    <tr>\n",
              "      <th>4</th>\n",
              "      <td>0001d958c54c6e35</td>\n",
              "      <td>You, sir, are my hero. Any chance you remember...</td>\n",
              "      <td>0</td>\n",
              "      <td>0</td>\n",
              "      <td>0</td>\n",
              "      <td>0</td>\n",
              "      <td>0</td>\n",
              "      <td>0</td>\n",
              "      <td>0</td>\n",
              "    </tr>\n",
              "  </tbody>\n",
              "</table>\n",
              "</div>"
            ],
            "text/plain": [
              "                 id  ... final_toxicity\n",
              "0  0000997932d777bf  ...              0\n",
              "1  000103f0d9cfb60f  ...              0\n",
              "2  000113f07ec002fd  ...              0\n",
              "3  0001b41b1c6bb37e  ...              0\n",
              "4  0001d958c54c6e35  ...              0\n",
              "\n",
              "[5 rows x 9 columns]"
            ]
          },
          "metadata": {
            "tags": []
          },
          "execution_count": 78
        }
      ]
    },
    {
      "cell_type": "code",
      "metadata": {
        "colab": {
          "base_uri": "https://localhost:8080/"
        },
        "id": "MtHK9ZWwW7-Q",
        "outputId": "4a5e1ffb-cb12-40f7-ee60-5d3ca62683d2"
      },
      "source": [
        "df.shape"
      ],
      "execution_count": null,
      "outputs": [
        {
          "output_type": "execute_result",
          "data": {
            "text/plain": [
              "(159571, 9)"
            ]
          },
          "metadata": {
            "tags": []
          },
          "execution_count": 79
        }
      ]
    },
    {
      "cell_type": "code",
      "metadata": {
        "colab": {
          "base_uri": "https://localhost:8080/"
        },
        "id": "Ht4TTBAsqNLa",
        "outputId": "22867e2f-af22-4e2c-99bb-ec4780be9a3f"
      },
      "source": [
        "#unbalanced\n",
        "print('--Unbalanced--')\n",
        "print(\"Non-toxic: \", len(df[df['final_toxicity'] == 0]) / len(df))\n",
        "print(\"Toxic: \", len(df[df['final_toxicity'] == 1]) / len(df))"
      ],
      "execution_count": null,
      "outputs": [
        {
          "output_type": "stream",
          "text": [
            "--Unbalanced--\n",
            "Non-toxic:  0.8983211235124177\n",
            "Toxic:  0.10167887648758234\n"
          ],
          "name": "stdout"
        }
      ]
    },
    {
      "cell_type": "code",
      "metadata": {
        "colab": {
          "base_uri": "https://localhost:8080/"
        },
        "id": "Cp-AizeiqM5U",
        "outputId": "acbc4753-194a-460e-ecff-33939094e4f1"
      },
      "source": [
        "# ---- Balancing ----\n",
        "\n",
        "# undersample majority class (i.e. toxic)\n",
        "x = len(df[df['final_toxicity'] == 1])\n",
        "resampled_majority = df[df['final_toxicity'] == 0].sample(x, random_state=42)\n",
        "\n",
        "#combine resampled majority with minority class rows\n",
        "balanced_df = df[df['final_toxicity'] == 1].append(resampled_majority)\n",
        "\n",
        "print('--Balanced--')\n",
        "print(\"Non-toxic: \", len(balanced_df[balanced_df['final_toxicity'] == 0]) / len(balanced_df))\n",
        "print(\"Toxic: \", len(balanced_df[balanced_df['final_toxicity'] == 1]) / len(balanced_df))\n",
        "balanced_df.shape\n"
      ],
      "execution_count": null,
      "outputs": [
        {
          "output_type": "stream",
          "text": [
            "--Balanced--\n",
            "Non-toxic:  0.5\n",
            "Toxic:  0.5\n"
          ],
          "name": "stdout"
        },
        {
          "output_type": "execute_result",
          "data": {
            "text/plain": [
              "(32450, 9)"
            ]
          },
          "metadata": {
            "tags": []
          },
          "execution_count": 81
        }
      ]
    },
    {
      "cell_type": "code",
      "metadata": {
        "id": "zweJRUzrZsb8"
      },
      "source": [
        "def preprocess(df):\n",
        "  \n",
        "    '''Note: This function mutates the original dataframe'''\n",
        "\n",
        "    \n",
        "    # Lowercase letters\n",
        "    df['comment_text'] = df['comment_text'].str.lower()\n",
        "    \n",
        "    # Remove special characters (e.g. @, $, %)\n",
        "    df['comment_text'] = df['comment_text'].str.replace(\"[^a-z0-9!@#\\$%\\^\\&\\*_\\-,\\.' ]\", \" \") \n",
        "    \n",
        "    # # Remove specific punctuations - keeps quotes\n",
        "    df['comment_text'] = df['comment_text'].str.replace('[^\\w\\s\\'\\\"]', \"\")\n",
        "    \n",
        "    # Remove random numbers\n",
        "    df['comment_text'] = df['comment_text'].str.replace(\"[^a-z' ]\", \"\")\n",
        "    \n",
        "    # Remove repeating characters and extra spaces \n",
        "    # Examples: 'whaaat' --> 'what' OR 'hello   bye' --> 'hello bye'\n",
        "    # Note: This does change words like \"look\" to \"lok\" cuz of the double letters, \n",
        "    # if we don't want this, we can remove the \\w in the regex pattern below.\n",
        "    repeat_pattern = re.compile(r'(\\s)\\1*')\n",
        "    match_substitution = r'\\1'\n",
        "    df['comment_text'] = df['comment_text'].apply(lambda x: repeat_pattern.sub(match_substitution, x))\n",
        "    \n",
        "    return df"
      ],
      "execution_count": null,
      "outputs": []
    },
    {
      "cell_type": "code",
      "metadata": {
        "colab": {
          "base_uri": "https://localhost:8080/",
          "height": 204
        },
        "id": "oO2aw8RvZz9u",
        "outputId": "cd1186b5-e9e2-4364-9949-47c430ee137d"
      },
      "source": [
        "df_clean = preprocess(balanced_df)\n",
        "df_clean.head()"
      ],
      "execution_count": null,
      "outputs": [
        {
          "output_type": "execute_result",
          "data": {
            "text/html": [
              "<div>\n",
              "<style scoped>\n",
              "    .dataframe tbody tr th:only-of-type {\n",
              "        vertical-align: middle;\n",
              "    }\n",
              "\n",
              "    .dataframe tbody tr th {\n",
              "        vertical-align: top;\n",
              "    }\n",
              "\n",
              "    .dataframe thead th {\n",
              "        text-align: right;\n",
              "    }\n",
              "</style>\n",
              "<table border=\"1\" class=\"dataframe\">\n",
              "  <thead>\n",
              "    <tr style=\"text-align: right;\">\n",
              "      <th></th>\n",
              "      <th>id</th>\n",
              "      <th>comment_text</th>\n",
              "      <th>toxic</th>\n",
              "      <th>severe_toxic</th>\n",
              "      <th>obscene</th>\n",
              "      <th>threat</th>\n",
              "      <th>insult</th>\n",
              "      <th>identity_hate</th>\n",
              "      <th>final_toxicity</th>\n",
              "    </tr>\n",
              "  </thead>\n",
              "  <tbody>\n",
              "    <tr>\n",
              "      <th>6</th>\n",
              "      <td>0002bcb3da6cb337</td>\n",
              "      <td>cocksucker before you piss around on my work</td>\n",
              "      <td>1</td>\n",
              "      <td>1</td>\n",
              "      <td>1</td>\n",
              "      <td>0</td>\n",
              "      <td>1</td>\n",
              "      <td>0</td>\n",
              "      <td>1</td>\n",
              "    </tr>\n",
              "    <tr>\n",
              "      <th>12</th>\n",
              "      <td>0005c987bdfc9d4b</td>\n",
              "      <td>hey what is it talk what is it an exclusive gr...</td>\n",
              "      <td>1</td>\n",
              "      <td>0</td>\n",
              "      <td>0</td>\n",
              "      <td>0</td>\n",
              "      <td>0</td>\n",
              "      <td>0</td>\n",
              "      <td>1</td>\n",
              "    </tr>\n",
              "    <tr>\n",
              "      <th>16</th>\n",
              "      <td>0007e25b2121310b</td>\n",
              "      <td>bye don't look come or think of comming back t...</td>\n",
              "      <td>1</td>\n",
              "      <td>0</td>\n",
              "      <td>0</td>\n",
              "      <td>0</td>\n",
              "      <td>0</td>\n",
              "      <td>0</td>\n",
              "      <td>1</td>\n",
              "    </tr>\n",
              "    <tr>\n",
              "      <th>42</th>\n",
              "      <td>001810bf8c45bf5f</td>\n",
              "      <td>you are gay or antisemmitian archangel white t...</td>\n",
              "      <td>1</td>\n",
              "      <td>0</td>\n",
              "      <td>1</td>\n",
              "      <td>0</td>\n",
              "      <td>1</td>\n",
              "      <td>1</td>\n",
              "      <td>1</td>\n",
              "    </tr>\n",
              "    <tr>\n",
              "      <th>43</th>\n",
              "      <td>00190820581d90ce</td>\n",
              "      <td>fuck your filthy mother in the ass dry</td>\n",
              "      <td>1</td>\n",
              "      <td>0</td>\n",
              "      <td>1</td>\n",
              "      <td>0</td>\n",
              "      <td>1</td>\n",
              "      <td>0</td>\n",
              "      <td>1</td>\n",
              "    </tr>\n",
              "  </tbody>\n",
              "</table>\n",
              "</div>"
            ],
            "text/plain": [
              "                  id  ... final_toxicity\n",
              "6   0002bcb3da6cb337  ...              1\n",
              "12  0005c987bdfc9d4b  ...              1\n",
              "16  0007e25b2121310b  ...              1\n",
              "42  001810bf8c45bf5f  ...              1\n",
              "43  00190820581d90ce  ...              1\n",
              "\n",
              "[5 rows x 9 columns]"
            ]
          },
          "metadata": {
            "tags": []
          },
          "execution_count": 83
        }
      ]
    },
    {
      "cell_type": "code",
      "metadata": {
        "colab": {
          "base_uri": "https://localhost:8080/"
        },
        "id": "izcZyCzYuz4x",
        "outputId": "0d336876-5953-4a0d-e01d-2be87a1fab10"
      },
      "source": [
        "print(\"Average length of sentences: \", np.mean(df_clean['comment_text'].apply(lambda x: len(x.split(' ')))))\n",
        "print(\"Median length of sentences: \", np.median(df_clean['comment_text'].apply(lambda x: len(x.split(' ')))))"
      ],
      "execution_count": null,
      "outputs": [
        {
          "output_type": "stream",
          "text": [
            "Average length of sentences:  60.50446841294299\n",
            "Median length of sentences:  29.0\n"
          ],
          "name": "stdout"
        }
      ]
    },
    {
      "cell_type": "code",
      "metadata": {
        "colab": {
          "base_uri": "https://localhost:8080/",
          "height": 265
        },
        "id": "AMvFKUtm0Mxm",
        "outputId": "255f67da-67cb-431a-d8d9-6c7fae3857ba"
      },
      "source": [
        "plt.hist(df_clean['comment_text'].apply(lambda x: len(x.split(' '))).values, bins=100);"
      ],
      "execution_count": null,
      "outputs": [
        {
          "output_type": "display_data",
          "data": {
            "image/png": "[encoded data removed]",
            "text/plain": [
              "<Figure size 432x288 with 1 Axes>"
            ]
          },
          "metadata": {
            "tags": []
          }
        }
      ]
    },
    {
      "cell_type": "code",
      "metadata": {
        "colab": {
          "base_uri": "https://localhost:8080/",
          "height": 265
        },
        "id": "I7wVaboE0-2g",
        "outputId": "1c299b9c-01d9-42f0-928b-1ed64ad753ea"
      },
      "source": [
        "# other than outliers (as seen in histogram above), most comments are around 20-40 in word length\n",
        "\n",
        "plt.boxplot(df_clean['comment_text'].apply(lambda x: len(x.split(' '))).values[df_clean['comment_text'].apply(lambda x: len(x.split(' '))).values < 100]);"
      ],
      "execution_count": null,
      "outputs": [
        {
          "output_type": "display_data",
          "data": {
            "image/png": "[encoded data removed]",
            "text/plain": [
              "<Figure size 432x288 with 1 Axes>"
            ]
          },
          "metadata": {
            "tags": []
          }
        }
      ]
    },
    {
      "cell_type": "code",
      "metadata": {
        "colab": {
          "base_uri": "https://localhost:8080/"
        },
        "id": "vQdTfUvLWu_c",
        "outputId": "2b671761-62d2-4f20-f5c0-0c02352814ed"
      },
      "source": [
        "vocab_size = 5000\n",
        "embedding_dim = 20\n",
        "max_length = 20\n",
        "trunc_type = 'post' # trim at the end\n",
        "padding_type = 'post' # add 0's at the end\n",
        "oov_tok = '<OOV>' # placeholder character for unseen words\n",
        "training_portion = 0.9\n",
        "\n",
        "nltk.download('stopwords')\n",
        "STOPWORDS = set(stopwords.words('english'))"
      ],
      "execution_count": null,
      "outputs": [
        {
          "output_type": "stream",
          "text": [
            "[nltk_data] Downloading package stopwords to /root/nltk_data...\n",
            "[nltk_data]   Package stopwords is already up-to-date!\n"
          ],
          "name": "stdout"
        }
      ]
    },
    {
      "cell_type": "code",
      "metadata": {
        "colab": {
          "base_uri": "https://localhost:8080/"
        },
        "id": "o40ilLkPWwVr",
        "outputId": "a7ceb8a3-2023-4333-ce64-892bb63ca39e"
      },
      "source": [
        "#split labels and sentences (while also removing stop words from sentences)\n",
        "\n",
        "sentences = []\n",
        "labels = []\n",
        "\n",
        "for index, row in df_clean.iterrows():\n",
        "    labels.append(row['final_toxicity'])\n",
        "    sentence = row['comment_text']\n",
        "    for word in STOPWORDS: #remove stopwords from sentence\n",
        "        token = ' ' + word + ' '\n",
        "        sentence = sentence.replace(token, ' ')\n",
        "        sentence = sentence.replace(' ', ' ')\n",
        "    sentences.append(sentence)\n",
        "\n",
        "\n",
        "sentences = np.array(sentences)\n",
        "labels = np.array(labels)\n",
        "\n",
        "#sanity check that lengths are the same\n",
        "print(len(labels))\n",
        "print(len(sentences))"
      ],
      "execution_count": null,
      "outputs": [
        {
          "output_type": "stream",
          "text": [
            "32450\n",
            "32450\n"
          ],
          "name": "stdout"
        }
      ]
    },
    {
      "cell_type": "code",
      "metadata": {
        "colab": {
          "base_uri": "https://localhost:8080/"
        },
        "id": "6zVo1cMxWwUg",
        "outputId": "e9947734-2dc6-45c7-8092-b25092a7c8ff"
      },
      "source": [
        "#simple train-test split\n",
        "np.random.seed(42) \n",
        "n = len(sentences)\n",
        "\n",
        "train_size = int(n * training_portion)\n",
        "train_indices = np.random.choice(n, size=train_size, replace=False)\n",
        "test_indices = np.arange(n)[~np.isin(np.arange(n), train_indices)]\n",
        "\n",
        "x_train = sentences[train_indices]\n",
        "y_train = labels[train_indices]\n",
        "\n",
        "x_validation = sentences[test_indices]\n",
        "y_validation = labels[test_indices]\n",
        "\n",
        "\n",
        "print('Size: ', train_size)\n",
        "print()\n",
        "\n",
        "print('--Train--')\n",
        "print(len(x_train))\n",
        "print(len(y_train))\n",
        "print()\n",
        "print('--Test--')\n",
        "print(len(x_validation))\n",
        "print(len(y_validation))"
      ],
      "execution_count": null,
      "outputs": [
        {
          "output_type": "stream",
          "text": [
            "Size:  29205\n",
            "\n",
            "--Train--\n",
            "29205\n",
            "29205\n",
            "\n",
            "--Test--\n",
            "3245\n",
            "3245\n"
          ],
          "name": "stdout"
        }
      ]
    },
    {
      "cell_type": "code",
      "metadata": {
        "id": "P5jzjmGzWwTU"
      },
      "source": [
        "# tokenize the words \n",
        "# Tokenizer from Tensorflow will take the 5000 most common words (vocab_size value set in parameters above)\n",
        "# and if a word is not in this list, we put in <OOV> to indicate an unseen word was encountered in text\n",
        "\n",
        "tokenizer = Tokenizer(num_words = vocab_size, oov_token=oov_tok) #create tokenizer\n",
        "tokenizer.fit_on_texts(x_train) #tokenize fit on x_train\n",
        "word_index = tokenizer.word_index # word_index = each word has been tokenized and mapped to a number value"
      ],
      "execution_count": null,
      "outputs": []
    },
    {
      "cell_type": "code",
      "metadata": {
        "colab": {
          "base_uri": "https://localhost:8080/"
        },
        "id": "sSNzCO1FWwOr",
        "outputId": "86aba22a-887d-4669-da1f-94af7ba80dea"
      },
      "source": [
        "dict(list(word_index.items())[0:10]) # dictionary of {word : number value}"
      ],
      "execution_count": null,
      "outputs": [
        {
          "output_type": "execute_result",
          "data": {
            "text/plain": [
              "{'<OOV>': 1,\n",
              " 'article': 3,\n",
              " 'fuck': 2,\n",
              " 'like': 6,\n",
              " 'one': 8,\n",
              " 'page': 5,\n",
              " 'please': 10,\n",
              " 'talk': 7,\n",
              " 'wikipedia': 4,\n",
              " 'would': 9}"
            ]
          },
          "metadata": {
            "tags": []
          },
          "execution_count": 171
        }
      ]
    },
    {
      "cell_type": "code",
      "metadata": {
        "id": "WbyHssyEWwNm"
      },
      "source": [
        "# turn tokens into list of sequences \n",
        "\n",
        "# map each sentence into numbers/tokens based on the word_index\n",
        "train_sequences = tokenizer.texts_to_sequences(x_train)"
      ],
      "execution_count": null,
      "outputs": []
    },
    {
      "cell_type": "code",
      "metadata": {
        "colab": {
          "base_uri": "https://localhost:8080/"
        },
        "id": "ZVSjBwYmfJhl",
        "outputId": "7c18f3b7-92e5-4c4f-db3d-4ebfd6efcae0"
      },
      "source": [
        "# example: \n",
        "print('Original Text: ', x_train[-1])\n",
        "print('Tokenized Text: ', train_sequences[-1]) \n",
        "\n",
        "# check size length (sanity check - note: tokenized might have less cuz we removed stop words)\n",
        "print()\n",
        "print('Original length: ', len(x_train[-1].split(' ')))\n",
        "print('Tokenized length: ', len(train_sequences[-1]))"
      ],
      "execution_count": null,
      "outputs": [
        {
          "output_type": "stream",
          "text": [
            "Original Text:  sean hoyland moron lead says terrorist attack thats attack embassy would usually classified next section describes kind attack car bomb sean hoyland moron\n",
            "Tokenized Text:  [4247, 1, 41, 564, 241, 1771, 246, 722, 246, 1, 9, 928, 3522, 420, 86, 2897, 292, 246, 2247, 3800, 4247, 1, 41]\n",
            "\n",
            "Original length:  23\n",
            "Tokenized length:  23\n"
          ],
          "name": "stdout"
        }
      ]
    },
    {
      "cell_type": "code",
      "metadata": {
        "id": "aURP5OjxWwIo"
      },
      "source": [
        "# we need sequences to be the same size in a NLP neural network, so we'll pad and trim our tokenized sequences\n",
        "# current hyperparam = 200 max length\n",
        "\n",
        "train_padded = pad_sequences(train_sequences, maxlen=max_length, padding=padding_type, truncating=trunc_type)"
      ],
      "execution_count": null,
      "outputs": []
    },
    {
      "cell_type": "code",
      "metadata": {
        "colab": {
          "base_uri": "https://localhost:8080/"
        },
        "id": "fNNVEnviWwHh",
        "outputId": "d1b830db-700a-434e-cf2c-c225b8a9f8a4"
      },
      "source": [
        "# sanity check that padding worked\n",
        "print(len(train_sequences[0]))\n",
        "print(len(train_padded[0]))\n",
        "\n",
        "print(len(train_sequences[1]))\n",
        "print(len(train_padded[1]))\n",
        "\n",
        "print(len(train_sequences[10]))\n",
        "print(len(train_padded[10]))"
      ],
      "execution_count": null,
      "outputs": [
        {
          "output_type": "stream",
          "text": [
            "5\n",
            "20\n",
            "7\n",
            "20\n",
            "11\n",
            "20\n"
          ],
          "name": "stdout"
        }
      ]
    },
    {
      "cell_type": "code",
      "metadata": {
        "colab": {
          "base_uri": "https://localhost:8080/"
        },
        "id": "i4fSZHFTWwGH",
        "outputId": "73d42e16-3cc4-4e19-cf7a-271e2974bade"
      },
      "source": [
        "# do the same preprocessing (i.e. tokenization) that we just did above to the validation set\n",
        "validation_sequences = tokenizer.texts_to_sequences(x_validation)\n",
        "validation_padded = pad_sequences(validation_sequences, maxlen=max_length, padding=padding_type, truncating=trunc_type)\n",
        "\n",
        "# confirm that the size and shape are the same as before (i.e. when we had split the data)\n",
        "print(len(validation_sequences))\n",
        "print(validation_padded.shape)"
      ],
      "execution_count": null,
      "outputs": [
        {
          "output_type": "stream",
          "text": [
            "3245\n",
            "(3245, 20)\n"
          ],
          "name": "stdout"
        }
      ]
    },
    {
      "cell_type": "code",
      "metadata": {
        "colab": {
          "base_uri": "https://localhost:8080/"
        },
        "id": "YvUz0PEbWwA3",
        "outputId": "9f125286-7d53-4696-d877-38b8f3d2e3e1"
      },
      "source": [
        "# our labels are already in numerical form, so we don't need to tokenize them\n",
        "# 0: non-toxic\n",
        "# 1: toxic\n",
        "\n",
        "# our labels are expected to be in numpy array form\n",
        "training_label_seq = np.array(y_train)\n",
        "validation_label_seq = np.array(y_validation)\n",
        "\n",
        "# sanity check for labels and shape\n",
        "print(set(labels))\n",
        "print(training_label_seq.shape)\n",
        "print(validation_label_seq.shape)"
      ],
      "execution_count": null,
      "outputs": [
        {
          "output_type": "stream",
          "text": [
            "{0, 1}\n",
            "(29205,)\n",
            "(3245,)\n"
          ],
          "name": "stdout"
        }
      ]
    },
    {
      "cell_type": "code",
      "metadata": {
        "colab": {
          "base_uri": "https://localhost:8080/"
        },
        "id": "GM2d3ucwWv7k",
        "outputId": "b0f811c0-5432-4b38-8682-895f0871693e"
      },
      "source": [
        "# let's review our preprocessed data/sentences\n",
        "\n",
        "reverse_word_index = dict([(value, key) for (key, value) in word_index.items()])\n",
        "\n",
        "def decode_article(text):\n",
        "    return ' '.join([reverse_word_index.get(i, '?') for i in text])\n",
        "\n",
        "print(decode_article(train_padded[100]))\n",
        "print('---')\n",
        "print(x_train[100])\n",
        "\n",
        "#notice OOV is used to supplement/serve as a placeholder for unknown words/vocab"
      ],
      "execution_count": null,
      "outputs": [
        {
          "output_type": "stream",
          "text": [
            "<OOV> spent enough time wikipedia disambiguation pages become <OOV> vast number terms also names rock bands long suspected article <OOV>\n",
            "---\n",
            "having spent enough time wikipedia disambiguation pages become acquainted vast number terms also names rock bands long suspected article confirms everything also band \n"
          ],
          "name": "stdout"
        }
      ]
    },
    {
      "cell_type": "markdown",
      "metadata": {
        "id": "Zq9sk4qKzoSZ"
      },
      "source": [
        "#Creating Model and Validating"
      ]
    },
    {
      "cell_type": "code",
      "metadata": {
        "colab": {
          "base_uri": "https://localhost:8080/"
        },
        "id": "KwoqmwIFCZC5",
        "outputId": "d3d4ac53-acab-434f-bade-6d38d67aed3e"
      },
      "source": [
        "embedding_dim"
      ],
      "execution_count": null,
      "outputs": [
        {
          "output_type": "execute_result",
          "data": {
            "text/plain": [
              "20"
            ]
          },
          "metadata": {
            "tags": []
          },
          "execution_count": 179
        }
      ]
    },
    {
      "cell_type": "code",
      "metadata": {
        "colab": {
          "base_uri": "https://localhost:8080/"
        },
        "id": "zrNZT2GvgsqS",
        "outputId": "9e5b8b14-a752-46ff-8d9d-2f204bfec019"
      },
      "source": [
        "# Creating our recurrent neural network model\n",
        "\n",
        "\n",
        "model = Sequential()\n",
        "model.add(Embedding(vocab_size, embedding_dim))\n",
        "model.add(Dropout(0.5))\n",
        "model.add(Bidirectional(LSTM(60)))\n",
        "model.add(Dropout(0.5))\n",
        "model.add(Dense(64, activation='relu'))\n",
        "model.add(Dropout(0.5))\n",
        "model.add(Dense(2, activation='sigmoid'))\n",
        "model.summary()\n",
        "\n",
        "#compile\n",
        "model.compile(loss='sparse_categorical_crossentropy', optimizer=\"RMSprop\", metrics=['accuracy'])\n",
        "\n",
        "num_epochs = 15\n",
        "batch_size = 100\n",
        "#fit\n",
        "history = model.fit(train_padded, \n",
        "                    training_label_seq, \n",
        "                    epochs = num_epochs, \n",
        "                    batch_size = batch_size,\n",
        "                    validation_data = (validation_padded, validation_label_seq), \n",
        "                    verbose = 1)"
      ],
      "execution_count": null,
      "outputs": [
        {
          "output_type": "stream",
          "text": [
            "Model: \"sequential_49\"\n",
            "_________________________________________________________________\n",
            "Layer (type)                 Output Shape              Param #   \n",
            "=================================================================\n",
            "embedding_49 (Embedding)     (None, None, 20)          100000    \n",
            "_________________________________________________________________\n",
            "dropout_103 (Dropout)        (None, None, 20)          0         \n",
            "_________________________________________________________________\n",
            "bidirectional_51 (Bidirectio (None, 120)               38880     \n",
            "_________________________________________________________________\n",
            "dropout_104 (Dropout)        (None, 120)               0         \n",
            "_________________________________________________________________\n",
            "dense_92 (Dense)             (None, 64)                7744      \n",
            "_________________________________________________________________\n",
            "dropout_105 (Dropout)        (None, 64)                0         \n",
            "_________________________________________________________________\n",
            "dense_93 (Dense)             (None, 2)                 130       \n",
            "=================================================================\n",
            "Total params: 146,754\n",
            "Trainable params: 146,754\n",
            "Non-trainable params: 0\n",
            "_________________________________________________________________\n",
            "Epoch 1/15\n",
            "293/293 [==============================] - 10s 35ms/step - loss: 0.4385 - accuracy: 0.7897 - val_loss: 0.4319 - val_accuracy: 0.8237\n",
            "Epoch 2/15\n",
            "293/293 [==============================] - 9s 32ms/step - loss: 0.2974 - accuracy: 0.8784 - val_loss: 0.3173 - val_accuracy: 0.8641\n",
            "Epoch 3/15\n",
            "293/293 [==============================] - 11s 38ms/step - loss: 0.2661 - accuracy: 0.8926 - val_loss: 0.3101 - val_accuracy: 0.8693\n",
            "Epoch 4/15\n",
            "293/293 [==============================] - 9s 32ms/step - loss: 0.2524 - accuracy: 0.9002 - val_loss: 0.2995 - val_accuracy: 0.8773\n",
            "Epoch 5/15\n",
            "293/293 [==============================] - 9s 32ms/step - loss: 0.2426 - accuracy: 0.9035 - val_loss: 0.2861 - val_accuracy: 0.8838\n",
            "Epoch 6/15\n",
            "293/293 [==============================] - 9s 32ms/step - loss: 0.2408 - accuracy: 0.9043 - val_loss: 0.2764 - val_accuracy: 0.8829\n",
            "Epoch 7/15\n",
            "293/293 [==============================] - 10s 32ms/step - loss: 0.2364 - accuracy: 0.9053 - val_loss: 0.3273 - val_accuracy: 0.8718\n",
            "Epoch 8/15\n",
            "293/293 [==============================] - 10s 32ms/step - loss: 0.2327 - accuracy: 0.9058 - val_loss: 0.2818 - val_accuracy: 0.8847\n",
            "Epoch 9/15\n",
            "293/293 [==============================] - 9s 32ms/step - loss: 0.2307 - accuracy: 0.9072 - val_loss: 0.2843 - val_accuracy: 0.8854\n",
            "Epoch 10/15\n",
            "293/293 [==============================] - 10s 33ms/step - loss: 0.2299 - accuracy: 0.9091 - val_loss: 0.3071 - val_accuracy: 0.8795\n",
            "Epoch 11/15\n",
            "293/293 [==============================] - 9s 32ms/step - loss: 0.2281 - accuracy: 0.9098 - val_loss: 0.2862 - val_accuracy: 0.8835\n",
            "Epoch 12/15\n",
            "293/293 [==============================] - 9s 32ms/step - loss: 0.2261 - accuracy: 0.9091 - val_loss: 0.3031 - val_accuracy: 0.8798\n",
            "Epoch 13/15\n",
            "293/293 [==============================] - 10s 32ms/step - loss: 0.2237 - accuracy: 0.9097 - val_loss: 0.2958 - val_accuracy: 0.8718\n",
            "Epoch 14/15\n",
            "293/293 [==============================] - 10s 33ms/step - loss: 0.2225 - accuracy: 0.9105 - val_loss: 0.2880 - val_accuracy: 0.8847\n",
            "Epoch 15/15\n",
            "293/293 [==============================] - 9s 32ms/step - loss: 0.2229 - accuracy: 0.9111 - val_loss: 0.2955 - val_accuracy: 0.8804\n"
          ],
          "name": "stdout"
        }
      ]
    },
    {
      "cell_type": "code",
      "metadata": {
        "id": "ApeSEK9VqNSB"
      },
      "source": [
        "# #save the model \n",
        "# model.save('model.h5')\n",
        "# print('Saved model to disk!')"
      ],
      "execution_count": null,
      "outputs": []
    },
    {
      "cell_type": "code",
      "metadata": {
        "id": "zDuq26rpwDCZ"
      },
      "source": [
        "# #save token mapping \n",
        "# dump(word_index, open('mapping.pkl', 'wb'))\n",
        "# print('Saved tokenizer mapping to disk!')"
      ],
      "execution_count": null,
      "outputs": []
    },
    {
      "cell_type": "code",
      "metadata": {
        "colab": {
          "base_uri": "https://localhost:8080/",
          "height": 541
        },
        "id": "A1jKatyngsZP",
        "outputId": "b24712d6-eaa1-44e2-dd45-198258c13f01"
      },
      "source": [
        "def plot_graphs(history, string):\n",
        "  plt.plot(history.history[string])\n",
        "  plt.plot(history.history['val_'+string])\n",
        "  plt.xlabel(\"Epochs\")\n",
        "  plt.ylabel(string)\n",
        "  plt.legend([string, 'val_'+string])\n",
        "  plt.show()\n",
        "  \n",
        "plot_graphs(history, \"accuracy\")\n",
        "plot_graphs(history, \"loss\")"
      ],
      "execution_count": null,
      "outputs": [
        {
          "output_type": "display_data",
          "data": {
            "image/png": "[encoded data removed]",
            "text/plain": [
              "<Figure size 432x288 with 1 Axes>"
            ]
          },
          "metadata": {
            "tags": [],
            "needs_background": "light"
          }
        },
        {
          "output_type": "display_data",
          "data": {
            "image/png": "[encoded data removed]",
            "text/plain": [
              "<Figure size 432x288 with 1 Axes>"
            ]
          },
          "metadata": {
            "tags": [],
            "needs_background": "light"
          }
        }
      ]
    },
    {
      "cell_type": "code",
      "metadata": {
        "colab": {
          "base_uri": "https://localhost:8080/"
        },
        "id": "H_qNQMfciH_M",
        "outputId": "626e37a0-6cd6-42b2-e0d4-d96c76e5bd3b"
      },
      "source": [
        "# predict on something random (TODO: need to preprocess this the same way, create some functions)\n",
        "txt = [\"Your vandalism to the Matt Shirvington article has been reverted.\"]\n",
        "seq = tokenizer.texts_to_sequences(txt)\n",
        "padded = pad_sequences(seq, maxlen=max_length)\n",
        "pred = model.predict(padded)\n",
        "labels = [0, 1]\n",
        "print(pred, labels[np.argmax(pred)])"
      ],
      "execution_count": null,
      "outputs": [
        {
          "output_type": "stream",
          "text": [
            "[[0.9953282 0.1460363]] 0\n"
          ],
          "name": "stdout"
        }
      ]
    },
    {
      "cell_type": "code",
      "metadata": {
        "colab": {
          "base_uri": "https://localhost:8080/"
        },
        "id": "bZH37G1SiH9w",
        "outputId": "4fe6ef4d-6e64-4490-ddf9-d026967f45ac"
      },
      "source": [
        "\n",
        "txt = [\"you suck\"]\n",
        "seq = tokenizer.texts_to_sequences(txt)\n",
        "padded = pad_sequences(seq, maxlen=max_length)\n",
        "pred = model.predict(padded)\n",
        "labels = [0, 1]\n",
        "print(pred, labels[np.argmax(pred)])"
      ],
      "execution_count": null,
      "outputs": [
        {
          "output_type": "stream",
          "text": [
            "[[0.01067209 1.        ]] 1\n"
          ],
          "name": "stdout"
        }
      ]
    },
    {
      "cell_type": "code",
      "metadata": {
        "colab": {
          "base_uri": "https://localhost:8080/"
        },
        "id": "q__94PDZiH1Z",
        "outputId": "eb78be5d-7976-442c-f39f-a799c1105964"
      },
      "source": [
        "# Note: too much padding can lead to worse results cuz \n",
        "# bad content/words can be obscured by filler padding\n",
        "padded "
      ],
      "execution_count": null,
      "outputs": [
        {
          "output_type": "execute_result",
          "data": {
            "text/plain": [
              "array([[ 0,  0,  0,  0,  0,  0,  0,  0,  0,  0,  0,  0,  0,  0,  0,  0,\n",
              "         0,  0, 27, 20]], dtype=int32)"
            ]
          },
          "metadata": {
            "tags": []
          },
          "execution_count": 224
        }
      ]
    },
    {
      "cell_type": "markdown",
      "metadata": {
        "id": "v0c-byYo2pFY"
      },
      "source": [
        "#Predictions on Test Set"
      ]
    },
    {
      "cell_type": "code",
      "metadata": {
        "id": "w85dwIKdvgUG"
      },
      "source": [
        "# # load model\n",
        "# model_loaded = load_model('model.h5')\n",
        "# # summarize model.\n",
        "# model_loaded.summary()"
      ],
      "execution_count": null,
      "outputs": []
    },
    {
      "cell_type": "code",
      "metadata": {
        "id": "qqOsKWZjxs9r"
      },
      "source": [
        "# # load the mapping\n",
        "# tokenizer = load(open('mapping.pkl', 'rb'))"
      ],
      "execution_count": null,
      "outputs": []
    },
    {
      "cell_type": "code",
      "metadata": {
        "colab": {
          "base_uri": "https://localhost:8080/",
          "height": 204
        },
        "id": "vqJgoLYrO5Qm",
        "outputId": "294c90b2-c852-4ac2-e36c-10c81ceda927"
      },
      "source": [
        "test = pd.read_csv(\"test_filtered.csv\")\n",
        "test.head()"
      ],
      "execution_count": null,
      "outputs": [
        {
          "output_type": "execute_result",
          "data": {
            "text/html": [
              "<div>\n",
              "<style scoped>\n",
              "    .dataframe tbody tr th:only-of-type {\n",
              "        vertical-align: middle;\n",
              "    }\n",
              "\n",
              "    .dataframe tbody tr th {\n",
              "        vertical-align: top;\n",
              "    }\n",
              "\n",
              "    .dataframe thead th {\n",
              "        text-align: right;\n",
              "    }\n",
              "</style>\n",
              "<table border=\"1\" class=\"dataframe\">\n",
              "  <thead>\n",
              "    <tr style=\"text-align: right;\">\n",
              "      <th></th>\n",
              "      <th>id</th>\n",
              "      <th>comment_text</th>\n",
              "    </tr>\n",
              "  </thead>\n",
              "  <tbody>\n",
              "    <tr>\n",
              "      <th>0</th>\n",
              "      <td>0001ea8717f6de06</td>\n",
              "      <td>Thank you for understanding. I think very high...</td>\n",
              "    </tr>\n",
              "    <tr>\n",
              "      <th>1</th>\n",
              "      <td>000247e83dcc1211</td>\n",
              "      <td>:Dear god this site is horrible.</td>\n",
              "    </tr>\n",
              "    <tr>\n",
              "      <th>2</th>\n",
              "      <td>0002f87b16116a7f</td>\n",
              "      <td>\"::: Somebody will invariably try to add Relig...</td>\n",
              "    </tr>\n",
              "    <tr>\n",
              "      <th>3</th>\n",
              "      <td>0003e1cccfd5a40a</td>\n",
              "      <td>\" \\n\\n It says it right there that it IS a typ...</td>\n",
              "    </tr>\n",
              "    <tr>\n",
              "      <th>4</th>\n",
              "      <td>00059ace3e3e9a53</td>\n",
              "      <td>\" \\n\\n == Before adding a new product to the l...</td>\n",
              "    </tr>\n",
              "  </tbody>\n",
              "</table>\n",
              "</div>"
            ],
            "text/plain": [
              "                 id                                       comment_text\n",
              "0  0001ea8717f6de06  Thank you for understanding. I think very high...\n",
              "1  000247e83dcc1211                   :Dear god this site is horrible.\n",
              "2  0002f87b16116a7f  \"::: Somebody will invariably try to add Relig...\n",
              "3  0003e1cccfd5a40a  \" \\n\\n It says it right there that it IS a typ...\n",
              "4  00059ace3e3e9a53  \" \\n\\n == Before adding a new product to the l..."
            ]
          },
          "metadata": {
            "tags": []
          },
          "execution_count": 227
        }
      ]
    },
    {
      "cell_type": "code",
      "metadata": {
        "colab": {
          "base_uri": "https://localhost:8080/",
          "height": 204
        },
        "id": "5LkuJvbSiUGo",
        "outputId": "7c758b49-db12-4102-8bfa-ab8d2674a485"
      },
      "source": [
        "#preprocess the same way as training set\n",
        "preprocess(test)\n",
        "test.head()"
      ],
      "execution_count": null,
      "outputs": [
        {
          "output_type": "execute_result",
          "data": {
            "text/html": [
              "<div>\n",
              "<style scoped>\n",
              "    .dataframe tbody tr th:only-of-type {\n",
              "        vertical-align: middle;\n",
              "    }\n",
              "\n",
              "    .dataframe tbody tr th {\n",
              "        vertical-align: top;\n",
              "    }\n",
              "\n",
              "    .dataframe thead th {\n",
              "        text-align: right;\n",
              "    }\n",
              "</style>\n",
              "<table border=\"1\" class=\"dataframe\">\n",
              "  <thead>\n",
              "    <tr style=\"text-align: right;\">\n",
              "      <th></th>\n",
              "      <th>id</th>\n",
              "      <th>comment_text</th>\n",
              "    </tr>\n",
              "  </thead>\n",
              "  <tbody>\n",
              "    <tr>\n",
              "      <th>0</th>\n",
              "      <td>0001ea8717f6de06</td>\n",
              "      <td>thank you for understanding i think very highl...</td>\n",
              "    </tr>\n",
              "    <tr>\n",
              "      <th>1</th>\n",
              "      <td>000247e83dcc1211</td>\n",
              "      <td>dear god this site is horrible</td>\n",
              "    </tr>\n",
              "    <tr>\n",
              "      <th>2</th>\n",
              "      <td>0002f87b16116a7f</td>\n",
              "      <td>somebody will invariably try to add religion ...</td>\n",
              "    </tr>\n",
              "    <tr>\n",
              "      <th>3</th>\n",
              "      <td>0003e1cccfd5a40a</td>\n",
              "      <td>it says it right there that it is a type the ...</td>\n",
              "    </tr>\n",
              "    <tr>\n",
              "      <th>4</th>\n",
              "      <td>00059ace3e3e9a53</td>\n",
              "      <td>before adding a new product to the list make ...</td>\n",
              "    </tr>\n",
              "  </tbody>\n",
              "</table>\n",
              "</div>"
            ],
            "text/plain": [
              "                 id                                       comment_text\n",
              "0  0001ea8717f6de06  thank you for understanding i think very highl...\n",
              "1  000247e83dcc1211                     dear god this site is horrible\n",
              "2  0002f87b16116a7f   somebody will invariably try to add religion ...\n",
              "3  0003e1cccfd5a40a   it says it right there that it is a type the ...\n",
              "4  00059ace3e3e9a53   before adding a new product to the list make ..."
            ]
          },
          "metadata": {
            "tags": []
          },
          "execution_count": 228
        }
      ]
    },
    {
      "cell_type": "code",
      "metadata": {
        "colab": {
          "base_uri": "https://localhost:8080/"
        },
        "id": "eT1ONCmk3wpE",
        "outputId": "5e739d1a-c71e-4401-e306-c911257337fc"
      },
      "source": [
        "test.shape"
      ],
      "execution_count": null,
      "outputs": [
        {
          "output_type": "execute_result",
          "data": {
            "text/plain": [
              "(63978, 2)"
            ]
          },
          "metadata": {
            "tags": []
          },
          "execution_count": 229
        }
      ]
    },
    {
      "cell_type": "code",
      "metadata": {
        "id": "5F7PsUp032Pv"
      },
      "source": [
        "def classify(sentence):\n",
        "  seq = tokenizer.texts_to_sequences(sentence)\n",
        "  padded = pad_sequences(seq, maxlen=max_length)\n",
        "  pred = model.predict(padded) #probabilities\n",
        "  labels = [0, 1]\n",
        "  return labels[np.argmax(pred)] #max probability "
      ],
      "execution_count": null,
      "outputs": []
    },
    {
      "cell_type": "code",
      "metadata": {
        "id": "5k8drTWQyLl4"
      },
      "source": [
        "# txt = ['hello']\n",
        "# seq = tokenizer['hello']\n",
        "# padded = pad_sequences(seq, maxlen=max_length)\n",
        "# pred = model.predict(padded) #probabilities\n",
        "# labels = [0, 1]\n",
        "# labels[np.argmax(pred)]\n",
        "\n"
      ],
      "execution_count": null,
      "outputs": []
    },
    {
      "cell_type": "code",
      "metadata": {
        "id": "-F5t7Xmv33pS"
      },
      "source": [
        "test['predictions'] = test[['comment_text']].apply(classify, axis=1) #took a while, probably because there's so many rows"
      ],
      "execution_count": null,
      "outputs": []
    },
    {
      "cell_type": "code",
      "metadata": {
        "colab": {
          "base_uri": "https://localhost:8080/",
          "height": 419
        },
        "id": "fb126SUtE_BD",
        "outputId": "d0e21abc-12a5-4896-e970-111d2bcf3c24"
      },
      "source": [
        "test"
      ],
      "execution_count": null,
      "outputs": [
        {
          "output_type": "execute_result",
          "data": {
            "text/html": [
              "<div>\n",
              "<style scoped>\n",
              "    .dataframe tbody tr th:only-of-type {\n",
              "        vertical-align: middle;\n",
              "    }\n",
              "\n",
              "    .dataframe tbody tr th {\n",
              "        vertical-align: top;\n",
              "    }\n",
              "\n",
              "    .dataframe thead th {\n",
              "        text-align: right;\n",
              "    }\n",
              "</style>\n",
              "<table border=\"1\" class=\"dataframe\">\n",
              "  <thead>\n",
              "    <tr style=\"text-align: right;\">\n",
              "      <th></th>\n",
              "      <th>id</th>\n",
              "      <th>comment_text</th>\n",
              "      <th>predictions</th>\n",
              "    </tr>\n",
              "  </thead>\n",
              "  <tbody>\n",
              "    <tr>\n",
              "      <th>0</th>\n",
              "      <td>0001ea8717f6de06</td>\n",
              "      <td>thank you for understanding i think very highl...</td>\n",
              "      <td>0</td>\n",
              "    </tr>\n",
              "    <tr>\n",
              "      <th>1</th>\n",
              "      <td>000247e83dcc1211</td>\n",
              "      <td>dear god this site is horrible</td>\n",
              "      <td>0</td>\n",
              "    </tr>\n",
              "    <tr>\n",
              "      <th>2</th>\n",
              "      <td>0002f87b16116a7f</td>\n",
              "      <td>somebody will invariably try to add religion ...</td>\n",
              "      <td>0</td>\n",
              "    </tr>\n",
              "    <tr>\n",
              "      <th>3</th>\n",
              "      <td>0003e1cccfd5a40a</td>\n",
              "      <td>it says it right there that it is a type the ...</td>\n",
              "      <td>0</td>\n",
              "    </tr>\n",
              "    <tr>\n",
              "      <th>4</th>\n",
              "      <td>00059ace3e3e9a53</td>\n",
              "      <td>before adding a new product to the list make ...</td>\n",
              "      <td>0</td>\n",
              "    </tr>\n",
              "    <tr>\n",
              "      <th>...</th>\n",
              "      <td>...</td>\n",
              "      <td>...</td>\n",
              "      <td>...</td>\n",
              "    </tr>\n",
              "    <tr>\n",
              "      <th>63973</th>\n",
              "      <td>fff8f64043129fa2</td>\n",
              "      <td>jerome i see you never got around to this i m...</td>\n",
              "      <td>0</td>\n",
              "    </tr>\n",
              "    <tr>\n",
              "      <th>63974</th>\n",
              "      <td>fff9d70fe0722906</td>\n",
              "      <td>lucky bastard http wikimediafoundationorg wik...</td>\n",
              "      <td>1</td>\n",
              "    </tr>\n",
              "    <tr>\n",
              "      <th>63975</th>\n",
              "      <td>fffa8a11c4378854</td>\n",
              "      <td>shame on you all you want to speak about gays...</td>\n",
              "      <td>1</td>\n",
              "    </tr>\n",
              "    <tr>\n",
              "      <th>63976</th>\n",
              "      <td>fffac2a094c8e0e2</td>\n",
              "      <td>mel gibson is a nazi bitch who makes shitty mo...</td>\n",
              "      <td>1</td>\n",
              "    </tr>\n",
              "    <tr>\n",
              "      <th>63977</th>\n",
              "      <td>fffb5451268fb5ba</td>\n",
              "      <td>unicorn lair discovery supposedly a 'unicorn ...</td>\n",
              "      <td>0</td>\n",
              "    </tr>\n",
              "  </tbody>\n",
              "</table>\n",
              "<p>63978 rows × 3 columns</p>\n",
              "</div>"
            ],
            "text/plain": [
              "                     id  ... predictions\n",
              "0      0001ea8717f6de06  ...           0\n",
              "1      000247e83dcc1211  ...           0\n",
              "2      0002f87b16116a7f  ...           0\n",
              "3      0003e1cccfd5a40a  ...           0\n",
              "4      00059ace3e3e9a53  ...           0\n",
              "...                 ...  ...         ...\n",
              "63973  fff8f64043129fa2  ...           0\n",
              "63974  fff9d70fe0722906  ...           1\n",
              "63975  fffa8a11c4378854  ...           1\n",
              "63976  fffac2a094c8e0e2  ...           1\n",
              "63977  fffb5451268fb5ba  ...           0\n",
              "\n",
              "[63978 rows x 3 columns]"
            ]
          },
          "metadata": {
            "tags": []
          },
          "execution_count": 233
        }
      ]
    },
    {
      "cell_type": "code",
      "metadata": {
        "id": "hw8W5JNE33dy"
      },
      "source": [
        "test.to_csv(\"samantha_predictions2.csv\", index=False)"
      ],
      "execution_count": null,
      "outputs": []
    },
    {
      "cell_type": "code",
      "metadata": {
        "colab": {
          "base_uri": "https://localhost:8080/",
          "height": 419
        },
        "id": "s5p76jnGFjfb",
        "outputId": "76717c4d-9379-4b20-85b8-93852dcdda6f"
      },
      "source": [
        "test_labels = pd.read_csv('test_labels_new_column.csv')\n",
        "test_labels"
      ],
      "execution_count": null,
      "outputs": [
        {
          "output_type": "execute_result",
          "data": {
            "text/html": [
              "<div>\n",
              "<style scoped>\n",
              "    .dataframe tbody tr th:only-of-type {\n",
              "        vertical-align: middle;\n",
              "    }\n",
              "\n",
              "    .dataframe tbody tr th {\n",
              "        vertical-align: top;\n",
              "    }\n",
              "\n",
              "    .dataframe thead th {\n",
              "        text-align: right;\n",
              "    }\n",
              "</style>\n",
              "<table border=\"1\" class=\"dataframe\">\n",
              "  <thead>\n",
              "    <tr style=\"text-align: right;\">\n",
              "      <th></th>\n",
              "      <th>id</th>\n",
              "      <th>toxic</th>\n",
              "      <th>severe_toxic</th>\n",
              "      <th>obscene</th>\n",
              "      <th>threat</th>\n",
              "      <th>insult</th>\n",
              "      <th>identity_hate</th>\n",
              "      <th>final_toxicity</th>\n",
              "    </tr>\n",
              "  </thead>\n",
              "  <tbody>\n",
              "    <tr>\n",
              "      <th>0</th>\n",
              "      <td>0001ea8717f6de06</td>\n",
              "      <td>0</td>\n",
              "      <td>0</td>\n",
              "      <td>0</td>\n",
              "      <td>0</td>\n",
              "      <td>0</td>\n",
              "      <td>0</td>\n",
              "      <td>0</td>\n",
              "    </tr>\n",
              "    <tr>\n",
              "      <th>1</th>\n",
              "      <td>000247e83dcc1211</td>\n",
              "      <td>0</td>\n",
              "      <td>0</td>\n",
              "      <td>0</td>\n",
              "      <td>0</td>\n",
              "      <td>0</td>\n",
              "      <td>0</td>\n",
              "      <td>0</td>\n",
              "    </tr>\n",
              "    <tr>\n",
              "      <th>2</th>\n",
              "      <td>0002f87b16116a7f</td>\n",
              "      <td>0</td>\n",
              "      <td>0</td>\n",
              "      <td>0</td>\n",
              "      <td>0</td>\n",
              "      <td>0</td>\n",
              "      <td>0</td>\n",
              "      <td>0</td>\n",
              "    </tr>\n",
              "    <tr>\n",
              "      <th>3</th>\n",
              "      <td>0003e1cccfd5a40a</td>\n",
              "      <td>0</td>\n",
              "      <td>0</td>\n",
              "      <td>0</td>\n",
              "      <td>0</td>\n",
              "      <td>0</td>\n",
              "      <td>0</td>\n",
              "      <td>0</td>\n",
              "    </tr>\n",
              "    <tr>\n",
              "      <th>4</th>\n",
              "      <td>00059ace3e3e9a53</td>\n",
              "      <td>0</td>\n",
              "      <td>0</td>\n",
              "      <td>0</td>\n",
              "      <td>0</td>\n",
              "      <td>0</td>\n",
              "      <td>0</td>\n",
              "      <td>0</td>\n",
              "    </tr>\n",
              "    <tr>\n",
              "      <th>...</th>\n",
              "      <td>...</td>\n",
              "      <td>...</td>\n",
              "      <td>...</td>\n",
              "      <td>...</td>\n",
              "      <td>...</td>\n",
              "      <td>...</td>\n",
              "      <td>...</td>\n",
              "      <td>...</td>\n",
              "    </tr>\n",
              "    <tr>\n",
              "      <th>63973</th>\n",
              "      <td>fff8f64043129fa2</td>\n",
              "      <td>0</td>\n",
              "      <td>0</td>\n",
              "      <td>0</td>\n",
              "      <td>0</td>\n",
              "      <td>0</td>\n",
              "      <td>0</td>\n",
              "      <td>0</td>\n",
              "    </tr>\n",
              "    <tr>\n",
              "      <th>63974</th>\n",
              "      <td>fff9d70fe0722906</td>\n",
              "      <td>0</td>\n",
              "      <td>0</td>\n",
              "      <td>0</td>\n",
              "      <td>0</td>\n",
              "      <td>0</td>\n",
              "      <td>0</td>\n",
              "      <td>0</td>\n",
              "    </tr>\n",
              "    <tr>\n",
              "      <th>63975</th>\n",
              "      <td>fffa8a11c4378854</td>\n",
              "      <td>0</td>\n",
              "      <td>0</td>\n",
              "      <td>0</td>\n",
              "      <td>0</td>\n",
              "      <td>0</td>\n",
              "      <td>0</td>\n",
              "      <td>0</td>\n",
              "    </tr>\n",
              "    <tr>\n",
              "      <th>63976</th>\n",
              "      <td>fffac2a094c8e0e2</td>\n",
              "      <td>1</td>\n",
              "      <td>0</td>\n",
              "      <td>1</td>\n",
              "      <td>0</td>\n",
              "      <td>1</td>\n",
              "      <td>0</td>\n",
              "      <td>1</td>\n",
              "    </tr>\n",
              "    <tr>\n",
              "      <th>63977</th>\n",
              "      <td>fffb5451268fb5ba</td>\n",
              "      <td>0</td>\n",
              "      <td>0</td>\n",
              "      <td>0</td>\n",
              "      <td>0</td>\n",
              "      <td>0</td>\n",
              "      <td>0</td>\n",
              "      <td>0</td>\n",
              "    </tr>\n",
              "  </tbody>\n",
              "</table>\n",
              "<p>63978 rows × 8 columns</p>\n",
              "</div>"
            ],
            "text/plain": [
              "                     id  toxic  ...  identity_hate  final_toxicity\n",
              "0      0001ea8717f6de06      0  ...              0               0\n",
              "1      000247e83dcc1211      0  ...              0               0\n",
              "2      0002f87b16116a7f      0  ...              0               0\n",
              "3      0003e1cccfd5a40a      0  ...              0               0\n",
              "4      00059ace3e3e9a53      0  ...              0               0\n",
              "...                 ...    ...  ...            ...             ...\n",
              "63973  fff8f64043129fa2      0  ...              0               0\n",
              "63974  fff9d70fe0722906      0  ...              0               0\n",
              "63975  fffa8a11c4378854      0  ...              0               0\n",
              "63976  fffac2a094c8e0e2      1  ...              0               1\n",
              "63977  fffb5451268fb5ba      0  ...              0               0\n",
              "\n",
              "[63978 rows x 8 columns]"
            ]
          },
          "metadata": {
            "tags": []
          },
          "execution_count": 235
        }
      ]
    },
    {
      "cell_type": "code",
      "metadata": {
        "colab": {
          "base_uri": "https://localhost:8080/"
        },
        "id": "OKgFGAhA33aY",
        "outputId": "4a7b9e6e-7273-4e7a-e76a-22b59d5ab47e"
      },
      "source": [
        "from sklearn.metrics import confusion_matrix\n",
        "\n",
        "y_true = test_labels['final_toxicity']\n",
        "y_pred = test['predictions']\n",
        "\n",
        "confusion_matrix(y_true, y_pred)\n",
        "\n",
        "# ----------\n",
        "#| TN | FP |\n",
        "# ----------\n",
        "#| FN | TP |\n",
        "# ----------"
      ],
      "execution_count": null,
      "outputs": [
        {
          "output_type": "execute_result",
          "data": {
            "text/plain": [
              "array([[48819,  8916],\n",
              "       [  851,  5392]])"
            ]
          },
          "metadata": {
            "tags": []
          },
          "execution_count": 240
        }
      ]
    },
    {
      "cell_type": "code",
      "metadata": {
        "colab": {
          "base_uri": "https://localhost:8080/"
        },
        "id": "iEc0cBb4FysR",
        "outputId": "85eddba5-ae81-4fdf-d289-8a759247a5b9"
      },
      "source": [
        "tn, fp, fn, tp = confusion_matrix(y_true, y_pred).ravel()\n",
        "(tn, fp, fn, tp)"
      ],
      "execution_count": null,
      "outputs": [
        {
          "output_type": "execute_result",
          "data": {
            "text/plain": [
              "(48819, 8916, 851, 5392)"
            ]
          },
          "metadata": {
            "tags": []
          },
          "execution_count": 237
        }
      ]
    },
    {
      "cell_type": "code",
      "metadata": {
        "id": "IA1Rz4kBGhyQ",
        "colab": {
          "base_uri": "https://localhost:8080/"
        },
        "outputId": "d1af5381-494e-452d-d2a0-ebc9d3b08de2"
      },
      "source": [
        "# precision (P):   TP/ (TP + FP)\n",
        "# recall (R):      TP/ (TP + FN)\n",
        "# f1 score:        2 * (P * R / (P + R))\n",
        "# accuracy:        (TN + TP) / (TN + TP + FP + FN)\n",
        "\n",
        "precision = tp / (tp + fp)\n",
        "recall = tp / (tp + fn)\n",
        "f1_score = 2 * (precision * recall) / (precision + recall)\n",
        "accuracy = (tn + tp)/ (tn + fp + fn + tp)\n",
        "\n",
        "print(\"Precision: \", precision)\n",
        "print('Recall: ', recall)\n",
        "print('F1 Score: ', f1_score)\n",
        "print('Accuracy: ', accuracy)"
      ],
      "execution_count": null,
      "outputs": [
        {
          "output_type": "stream",
          "text": [
            "Precision:  0.37685211070729663\n",
            "Recall:  0.8636873298093866\n",
            "F1 Score:  0.5247433214928714\n",
            "Accuracy:  0.847338147488199\n"
          ],
          "name": "stdout"
        }
      ]
    },
    {
      "cell_type": "code",
      "metadata": {
        "id": "gYLYiiVqsITc"
      },
      "source": [
        ""
      ],
      "execution_count": null,
      "outputs": []
    }
  ]
}